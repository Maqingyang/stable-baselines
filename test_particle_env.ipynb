{
 "cells": [
  {
   "cell_type": "code",
   "execution_count": 3,
   "metadata": {},
   "outputs": [],
   "source": [
    "import gym\n",
    "import numpy as np\n",
    "\n",
    "from stable_baselines.common.policies import MlpPolicy\n",
    "from stable_baselines.common.vec_env import DummyVecEnv\n",
    "from stable_baselines import PPO2\n",
    "from stable_baselines import PPO1\n",
    "# from particle_env import PrticleEnv\n",
    "from particle_env_continuous_closer import PrticleEnv\n",
    "\n",
    "import matplotlib.pyplot as plt\n",
    "%matplotlib inline\n",
    "from IPython import display\n",
    "\n",
    "def show_state(env, step=0, info=\"\"):\n",
    "    plt.figure(3)\n",
    "    plt.clf()\n",
    "    plt.imshow(env.render(mode='rgb_array'))\n",
    "    plt.title(\"%s\" % (info))\n",
    "    plt.axis('off')\n",
    "\n",
    "    display.clear_output(wait=True)\n",
    "    display.display(plt.gcf())\n",
    "\n",
    "\n",
    "\n",
    "\n"
   ]
  },
  {
   "cell_type": "code",
   "execution_count": 19,
   "metadata": {},
   "outputs": [
    {
     "ename": "SyntaxError",
     "evalue": "invalid syntax (<ipython-input-19-249dea1ed381>, line 2)",
     "output_type": "error",
     "traceback": [
      "\u001b[0;36m  File \u001b[0;32m\"<ipython-input-19-249dea1ed381>\"\u001b[0;36m, line \u001b[0;32m2\u001b[0m\n\u001b[0;31m    args = {\"alpha\"=1,\"beta\"=1000,\"win_thre\"=1, \"max_timestep\"=256}\u001b[0m\n\u001b[0m                   ^\u001b[0m\n\u001b[0;31mSyntaxError\u001b[0m\u001b[0;31m:\u001b[0m invalid syntax\n"
     ]
    }
   ],
   "source": [
    "# env = DummyVecEnv([lambda: PrticleEnv(alpha,win_thre)])\n",
    "args = {\"alpha\"=1,\"beta\"=1000,\"win_thre\"=1, \"max_timestep\"=256}\n",
    "env = DummyVecEnv([lambda: PrticleEnv(**args)])\n",
    "\n",
    "\n",
    "\n",
    "\n",
    "model = PPO1(MlpPolicy,env,verbose=0,\\\n",
    "        timesteps_per_actorbatch=256,\n",
    "        policy_kwargs={\"net_arch\": [dict(vf=[64,64,64], pi=[64,64,64])]},\\\n",
    "        optim_stepsize = 3e-4,\n",
    "        optim_batchsize=256,\n",
    "        optim_epochs = 4,\n",
    "        schedule='linear',\n",
    "        n_cpu_tf_sess=16)\n",
    "model.learn(total_timesteps=int(1e4))\n",
    "\n"
   ]
  },
  {
   "cell_type": "code",
   "execution_count": null,
   "metadata": {},
   "outputs": [
    {
     "data": {
      "image/png": "[encoded data removed]",
      "text/plain": [
       "<Figure size 432x288 with 1 Axes>"
      ]
     },
     "metadata": {},
     "output_type": "display_data"
    }
   ],
   "source": [
    "env = PrticleEnv(alpha=1,beta=100,win_thre=1, max_timestep=256)\n",
    "model = PPO1.load(\"model/ppo1_continuous_closer_exp1_010M.zip\")\n",
    "# Enjoy trained agent\n",
    "dones = True\n",
    "# for _ in range(1000):\n",
    "while True:\n",
    "    if dones:\n",
    "        obs = env.reset()\n",
    "    action, _states = model.predict(obs)\n",
    "    obs, rewards, dones, info = env.step(action)\n",
    "#     obs, rewards, dones, info = env.step(env.action_space.sample()/10+5)\n",
    "    obs = np.round(obs,2)\n",
    "    show_state(env,info=\"step:%4d reward:%f\" %(env.curr_timestep,rewards))\n",
    "\n",
    "env.close()"
   ]
  },
  {
   "cell_type": "code",
   "execution_count": null,
   "metadata": {},
   "outputs": [
    {
     "data": {
      "image/png": "[encoded data removed]",
      "text/plain": [
       "<Figure size 432x288 with 1 Axes>"
      ]
     },
     "metadata": {},
     "output_type": "display_data"
    }
   ],
   "source": [
    "import numpy as np\n",
    "import gym\n",
    "\n",
    "from stable_baselines.common.policies import MlpPolicy\n",
    "from stable_baselines.common.vec_env import DummyVecEnv\n",
    "from stable_baselines import PPO2\n",
    "from stable_baselines import PPO1\n",
    "from particle_env import PrticleEnv\n",
    "\n",
    "import matplotlib.pyplot as plt\n",
    "%matplotlib inline\n",
    "from IPython import display\n",
    "def show_state(env, step=0, info=\"\"):\n",
    "    plt.figure(3)\n",
    "    plt.clf()\n",
    "    plt.imshow(env.render(mode='rgb_array'))\n",
    "#     plt.title(\"%s | Step: %d %s\" % (env.spec.id,step, info))\n",
    "    plt.axis('off')\n",
    "\n",
    "    display.clear_output(wait=True)\n",
    "    display.display(plt.gcf())\n",
    "\n",
    "\n",
    "def show_state(env, step=0, info=\"\"):\n",
    "    plt.figure(3)\n",
    "    plt.clf()\n",
    "    plt.imshow(env.render(mode='rgb_array'))\n",
    "    plt.title(\"%s\" % (info))\n",
    "    plt.axis('off')\n",
    "\n",
    "    display.clear_output(wait=True)\n",
    "    display.display(plt.gcf())\n",
    "\n",
    "# Enjoy trained agent\n",
    "dones = True\n",
    "# for _ in range(1000):\n",
    "env = PrticleEnv(alpha=1,win_thre=1,max_timestep=64)\n",
    "\n",
    "while True:\n",
    "    if dones:\n",
    "        obs = env.reset()\n",
    "\n",
    "    obs, rewards, dones, info = env.step(env.action_space.sample())\n",
    "    obs = np.round(obs,2)\n",
    "    show_state(env,info=\"step:%4d reward:%f, state:%s\" %(env.curr_timestep,rewards,np.array2string(obs)))\n",
    "env.close()"
   ]
  },
  {
   "cell_type": "code",
   "execution_count": null,
   "metadata": {},
   "outputs": [],
   "source": []
  }
 ],
 "metadata": {
  "kernelspec": {
   "display_name": "myenv",
   "language": "python",
   "name": "myenv"
  },
  "language_info": {
   "codemirror_mode": {
    "name": "ipython",
    "version": 3
   },
   "file_extension": ".py",
   "mimetype": "text/x-python",
   "name": "python",
   "nbconvert_exporter": "python",
   "pygments_lexer": "ipython3",
   "version": "3.5.2"
  }
 },
 "nbformat": 4,
 "nbformat_minor": 4
}
