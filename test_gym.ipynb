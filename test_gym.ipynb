{
 "cells": [
  {
   "cell_type": "code",
   "execution_count": 2,
   "metadata": {},
   "outputs": [
    {
     "name": "stdout",
     "output_type": "stream",
     "text": [
      "WARNING:tensorflow:\n",
      "The TensorFlow contrib module will not be included in TensorFlow 2.0.\n",
      "For more information, please see:\n",
      "  * https://github.com/tensorflow/community/blob/master/rfcs/20180907-contrib-sunset.md\n",
      "  * https://github.com/tensorflow/addons\n",
      "  * https://github.com/tensorflow/io (for I/O related ops)\n",
      "If you depend on functionality not listed there, please file an issue.\n",
      "\n"
     ]
    }
   ],
   "source": [
    "##\n",
    "\n",
    "import gym\n",
    "\n",
    "from stable_baselines import GAIL, SAC\n",
    "from stable_baselines.gail import ExpertDataset, generate_expert_traj\n",
    "\n",
    "import gym\n",
    "import numpy as np\n",
    "\n",
    "from stable_baselines.common.policies import MlpPolicy\n",
    "from stable_baselines.common.vec_env import DummyVecEnv\n",
    "from stable_baselines import PPO2\n",
    "from stable_baselines import PPO1\n",
    "# from particle_env import PrticleEnv\n",
    "from particle_env_continuous import PrticleEnv\n",
    "\n",
    "import matplotlib.pyplot as plt\n",
    "%matplotlib inline\n",
    "from IPython import display\n",
    "\n",
    "def show_state(env, step=0, info=\"\"):\n",
    "    plt.figure(3)\n",
    "    plt.clf()\n",
    "    plt.imshow(env.render(mode='rgb_array'))\n",
    "    plt.title(\"%s\" % (info))\n",
    "    plt.axis('off')\n",
    "\n",
    "    display.clear_output(wait=True)\n",
    "    display.display(plt.gcf())\n",
    "\n",
    "\n",
    "\n"
   ]
  },
  {
   "cell_type": "code",
   "execution_count": 3,
   "metadata": {},
   "outputs": [
    {
     "name": "stdout",
     "output_type": "stream",
     "text": [
      "Creating environment from the given name, wrapped in a DummyVecEnv.\n",
      "WARNING:tensorflow:From /disk1/maze/project/stable-baselines/stable_baselines/common/tf_util.py:191: The name tf.ConfigProto is deprecated. Please use tf.compat.v1.ConfigProto instead.\n",
      "\n",
      "WARNING:tensorflow:From /disk1/maze/project/stable-baselines/stable_baselines/common/tf_util.py:200: The name tf.Session is deprecated. Please use tf.compat.v1.Session instead.\n",
      "\n"
     ]
    },
    {
     "name": "stderr",
     "output_type": "stream",
     "text": [
      "/disk1/maze/project/stable-baselines/venv/lib/python3.5/site-packages/gym/logger.py:30: UserWarning: \u001b[33mWARN: Box bound precision lowered by casting to float32\u001b[0m\n",
      "  warnings.warn(colorize('%s: %s'%('WARN', msg % args), 'yellow'))\n"
     ]
    },
    {
     "name": "stdout",
     "output_type": "stream",
     "text": [
      "WARNING:tensorflow:From /disk1/maze/project/stable-baselines/stable_baselines/sac/sac.py:142: The name tf.variable_scope is deprecated. Please use tf.compat.v1.variable_scope instead.\n",
      "\n",
      "WARNING:tensorflow:From /disk1/maze/project/stable-baselines/stable_baselines/common/input.py:25: The name tf.placeholder is deprecated. Please use tf.compat.v1.placeholder instead.\n",
      "\n",
      "WARNING:tensorflow:From /disk1/maze/project/stable-baselines/stable_baselines/sac/policies.py:194: flatten (from tensorflow.python.layers.core) is deprecated and will be removed in a future version.\n",
      "Instructions for updating:\n",
      "Use keras.layers.flatten instead.\n",
      "WARNING:tensorflow:From /disk1/maze/project/stable-baselines/venv/lib/python3.5/site-packages/tensorflow_core/python/layers/core.py:332: Layer.apply (from tensorflow.python.keras.engine.base_layer) is deprecated and will be removed in a future version.\n",
      "Instructions for updating:\n",
      "Please use `layer.__call__` method instead.\n",
      "WARNING:tensorflow:From /disk1/maze/project/stable-baselines/stable_baselines/common/tf_layers.py:57: dense (from tensorflow.python.layers.core) is deprecated and will be removed in a future version.\n",
      "Instructions for updating:\n",
      "Use keras.layers.Dense instead.\n",
      "WARNING:tensorflow:From /disk1/maze/project/stable-baselines/stable_baselines/sac/policies.py:216: The name tf.random_normal is deprecated. Please use tf.random.normal instead.\n",
      "\n",
      "WARNING:tensorflow:From /disk1/maze/project/stable-baselines/stable_baselines/sac/policies.py:63: The name tf.log is deprecated. Please use tf.math.log instead.\n",
      "\n",
      "WARNING:tensorflow:From /disk1/maze/project/stable-baselines/stable_baselines/sac/sac.py:197: The name tf.get_variable is deprecated. Please use tf.compat.v1.get_variable instead.\n",
      "\n",
      "WARNING:tensorflow:From /disk1/maze/project/stable-baselines/stable_baselines/sac/sac.py:233: The name tf.train.AdamOptimizer is deprecated. Please use tf.compat.v1.train.AdamOptimizer instead.\n",
      "\n",
      "WARNING:tensorflow:From /disk1/maze/project/stable-baselines/stable_baselines/common/tf_util.py:449: The name tf.get_collection is deprecated. Please use tf.compat.v1.get_collection instead.\n",
      "\n",
      "WARNING:tensorflow:From /disk1/maze/project/stable-baselines/stable_baselines/common/tf_util.py:449: The name tf.GraphKeys is deprecated. Please use tf.compat.v1.GraphKeys instead.\n",
      "\n",
      "WARNING:tensorflow:From /disk1/maze/project/stable-baselines/venv/lib/python3.5/site-packages/tensorflow_core/python/ops/math_grad.py:1375: where (from tensorflow.python.ops.array_ops) is deprecated and will be removed in a future version.\n",
      "Instructions for updating:\n",
      "Use tf.where in 2.0, which has the same broadcast rule as np.where\n",
      "WARNING:tensorflow:From /disk1/maze/project/stable-baselines/stable_baselines/sac/sac.py:269: The name tf.assign is deprecated. Please use tf.compat.v1.assign instead.\n",
      "\n",
      "WARNING:tensorflow:From /disk1/maze/project/stable-baselines/stable_baselines/sac/sac.py:296: The name tf.summary.scalar is deprecated. Please use tf.compat.v1.summary.scalar instead.\n",
      "\n",
      "WARNING:tensorflow:From /disk1/maze/project/stable-baselines/stable_baselines/sac/sac.py:313: The name tf.global_variables_initializer is deprecated. Please use tf.compat.v1.global_variables_initializer instead.\n",
      "\n",
      "WARNING:tensorflow:From /disk1/maze/project/stable-baselines/stable_baselines/sac/sac.py:316: The name tf.summary.merge_all is deprecated. Please use tf.compat.v1.summary.merge_all instead.\n",
      "\n",
      "actions (2000, 1)\n",
      "episode_returns (10,)\n",
      "obs (2000, 3)\n",
      "episode_starts (2000,)\n",
      "rewards (2000,)\n"
     ]
    },
    {
     "data": {
      "text/plain": [
       "{'actions': array([[ 0.02505612],\n",
       "        [ 0.1140542 ],\n",
       "        [ 0.1616826 ],\n",
       "        ...,\n",
       "        [-0.07597148],\n",
       "        [-0.04526877],\n",
       "        [-0.0347923 ]], dtype=float32),\n",
       " 'episode_returns': array([-1327.69327497, -1333.16051096, -1327.20412749, -1677.76058388,\n",
       "        -1319.58901462, -1275.49044891, -1474.92099452, -1347.91732419,\n",
       "        -1451.22090411, -1566.78292894]),\n",
       " 'episode_starts': array([ True, False, False, ..., False, False, False]),\n",
       " 'obs': array([[ 0.7357745 , -0.6772266 , -0.63633096],\n",
       "        [ 0.6959809 , -0.7180603 , -1.1404924 ],\n",
       "        [ 0.63397974, -0.77334964, -1.6619296 ],\n",
       "        ...,\n",
       "        [-0.8862086 ,  0.4632864 ,  0.9763855 ],\n",
       "        [-0.91468143,  0.40417552,  1.3124546 ],\n",
       "        [-0.9442005 ,  0.32937112,  1.6087959 ]], dtype=float32),\n",
       " 'rewards': array([-0.59400856, -0.77170444, -1.05787373, ..., -7.17036772,\n",
       "        -7.60068989, -8.13220787])}"
      ]
     },
     "execution_count": 3,
     "metadata": {},
     "output_type": "execute_result"
    }
   ],
   "source": [
    "# Generate expert trajectories (train expert)\n",
    "model = SAC('MlpPolicy', 'Pendulum-v0', verbose=1)\n",
    "generate_expert_traj(model, 'expert_pendulum', n_timesteps=100, n_episodes=10)\n",
    "\n"
   ]
  },
  {
   "cell_type": "code",
   "execution_count": 4,
   "metadata": {},
   "outputs": [
    {
     "name": "stdout",
     "output_type": "stream",
     "text": [
      "actions (2000, 1)\n",
      "episode_returns (10,)\n",
      "rewards (2000,)\n",
      "episode_starts (2000,)\n",
      "obs (2000, 3)\n",
      "Total trajectories: 10\n",
      "Total transitions: 2000\n",
      "Average returns: -1410.1740112587809\n",
      "Std for returns: 123.22552396603196\n",
      "Creating environment from the given name, wrapped in a DummyVecEnv.\n",
      "WARNING:tensorflow:From /disk1/maze/project/stable-baselines/stable_baselines/common/mpi_running_mean_std.py:42: The name tf.assign_add is deprecated. Please use tf.compat.v1.assign_add instead.\n",
      "\n",
      "WARNING:tensorflow:From /disk1/maze/project/stable-baselines/stable_baselines/gail/adversary.py:116: The name tf.get_variable_scope is deprecated. Please use tf.compat.v1.get_variable_scope instead.\n",
      "\n",
      "WARNING:tensorflow:From /disk1/maze/project/stable-baselines/stable_baselines/common/tf_util.py:241: The name tf.global_variables is deprecated. Please use tf.compat.v1.global_variables instead.\n",
      "\n",
      "WARNING:tensorflow:From /disk1/maze/project/stable-baselines/stable_baselines/common/tf_util.py:242: The name tf.variables_initializer is deprecated. Please use tf.compat.v1.variables_initializer instead.\n",
      "\n",
      "********** Iteration 0 ************\n",
      "Optimizing Policy...\n",
      "\u001b[35msampling\u001b[0m\n",
      "WARNING:tensorflow:From /disk1/maze/project/stable-baselines/stable_baselines/gail/adversary.py:153: The name tf.get_default_session is deprecated. Please use tf.compat.v1.get_default_session instead.\n",
      "\n",
      "\u001b[35mdone in 0.733 seconds\u001b[0m\n",
      "\u001b[35mcomputegrad\u001b[0m\n",
      "WARNING:tensorflow:From /disk1/maze/project/stable-baselines/stable_baselines/trpo_mpi/trpo_mpi.py:362: The name tf.RunOptions is deprecated. Please use tf.compat.v1.RunOptions instead.\n",
      "\n",
      "\u001b[35mdone in 0.116 seconds\u001b[0m\n",
      "\u001b[35mconjugate_gradient\u001b[0m\n",
      "      iter residual norm  soln norm\n",
      "         0    0.00367          0\n",
      "         1    0.00223    0.00951\n",
      "         2   0.000255     0.0267\n",
      "         3   0.000394     0.0854\n",
      "         4   0.000571      0.235\n",
      "         5   7.03e-05      0.284\n",
      "         6   0.000401      0.315\n",
      "         7   0.000174      0.321\n",
      "         8   5.97e-06      0.354\n",
      "         9   9.21e-08      0.436\n",
      "        10   8.64e-06      0.437\n",
      "\u001b[35mdone in 0.131 seconds\u001b[0m\n",
      "Expected: 0.011 Actual: 0.010\n",
      "Stepsize OK!\n",
      "\u001b[35mvf\u001b[0m\n",
      "\u001b[35mdone in 0.052 seconds\u001b[0m\n",
      "\u001b[35msampling\u001b[0m\n",
      "\u001b[35mdone in 0.599 seconds\u001b[0m\n",
      "\u001b[35mcomputegrad\u001b[0m\n",
      "\u001b[35mdone in 0.002 seconds\u001b[0m\n",
      "\u001b[35mconjugate_gradient\u001b[0m\n",
      "      iter residual norm  soln norm\n",
      "         0     0.0211          0\n",
      "         1     0.0081     0.0103\n",
      "         2    0.00104     0.0522\n",
      "         3     0.0015      0.085\n",
      "         4    0.00244      0.199\n",
      "         5   0.000227      0.292\n",
      "         6    0.00682       0.31\n",
      "         7   0.000475      0.462\n",
      "         8   9.11e-05      0.498\n",
      "         9   5.77e-05      0.542\n",
      "        10   0.000614      0.563\n",
      "\u001b[35mdone in 0.009 seconds\u001b[0m\n",
      "Expected: 0.018 Actual: 0.013\n",
      "Stepsize OK!\n",
      "\u001b[35mvf\u001b[0m\n",
      "\u001b[35mdone in 0.019 seconds\u001b[0m\n",
      "\u001b[35msampling\u001b[0m\n",
      "\u001b[35mdone in 0.598 seconds\u001b[0m\n",
      "\u001b[35mcomputegrad\u001b[0m\n",
      "\u001b[35mdone in 0.002 seconds\u001b[0m\n",
      "\u001b[35mconjugate_gradient\u001b[0m\n",
      "      iter residual norm  soln norm\n",
      "         0     0.0161          0\n",
      "         1    0.00576    0.00748\n",
      "         2    0.00102     0.0272\n",
      "         3    0.00123     0.0977\n",
      "         4   0.000409      0.152\n",
      "         5   0.000924      0.194\n",
      "         6     0.0128      0.309\n",
      "         7   0.000129      0.359\n",
      "         8   3.67e-05      0.378\n",
      "         9   0.000172      0.393\n",
      "        10   2.57e-05      0.444\n",
      "\u001b[35mdone in 0.010 seconds\u001b[0m\n",
      "Expected: 0.015 Actual: 0.008\n",
      "Stepsize OK!\n",
      "\u001b[35mvf\u001b[0m\n",
      "\u001b[35mdone in 0.020 seconds\u001b[0m\n",
      "Optimizing Discriminator...\n",
      "generator_loss |   expert_loss |       entropy |  entropy_loss | generator_acc |    expert_acc\n",
      "      0.73175 |       0.75025 |       0.68358 |      -0.00068 |       0.48438 |       0.23926\n",
      "------------------------------------------\n",
      "| EpLenMean               | 200          |\n",
      "| EpRewMean               | 132.4759     |\n",
      "| EpThisIter              | 5            |\n",
      "| EpTrueRewMean           | -1.26e+03    |\n",
      "| EpisodesSoFar           | 5            |\n",
      "| TimeElapsed             | 2.49         |\n",
      "| TimestepsSoFar          | 1024         |\n",
      "| entloss                 | 0.0          |\n",
      "| entropy                 | 1.3443614    |\n",
      "| explained_variance_t... | -0.0627      |\n",
      "| meankl                  | 0.010301888  |\n",
      "| optimgain               | 0.0077447817 |\n",
      "| surrgain                | 0.0077447817 |\n",
      "------------------------------------------\n"
     ]
    }
   ],
   "source": [
    "# Load the expert dataset\n",
    "dataset = ExpertDataset(expert_path='expert_pendulum.npz', traj_limitation=10, verbose=1)\n",
    "\n",
    "model = GAIL('MlpPolicy', 'Pendulum-v0', dataset, verbose=1)\n",
    "# Note: in practice, you need to train for 1M steps to have a working policy\n",
    "model.learn(total_timesteps=1000)\n",
    "model.save(\"gail_pendulum\")\n",
    "\n",
    "del model # remove to demonstrate saving and loading\n",
    "\n"
   ]
  },
  {
   "cell_type": "code",
   "execution_count": null,
   "metadata": {},
   "outputs": [
    {
     "name": "stdout",
     "output_type": "stream",
     "text": [
      "Loading a model without an environment, this model cannot be trained until it has a valid environment.\n"
     ]
    },
    {
     "name": "stderr",
     "output_type": "stream",
     "text": [
      "/disk1/maze/project/stable-baselines/venv/lib/python3.5/site-packages/gym/logger.py:30: UserWarning: \u001b[33mWARN: Box bound precision lowered by casting to float32\u001b[0m\n",
      "  warnings.warn(colorize('%s: %s'%('WARN', msg % args), 'yellow'))\n"
     ]
    },
    {
     "name": "stdout",
     "output_type": "stream",
     "text": [
      "1\n"
     ]
    }
   ],
   "source": [
    "model = GAIL.load(\"gail_pendulum\")\n",
    "\n",
    "env = gym.make('Pendulum-v0')\n",
    "obs = env.reset()\n",
    "while True:\n",
    "  print(1)\n",
    "  action, _states = model.predict(obs)\n",
    "  obs, rewards, dones, info = env.step(action)\n",
    "#   env.render()\n",
    "#  show_state(env)\n",
    "  print(env.render(mode='rgb_array'))"
   ]
  },
  {
   "cell_type": "code",
   "execution_count": null,
   "metadata": {},
   "outputs": [],
   "source": []
  }
 ],
 "metadata": {
  "kernelspec": {
   "display_name": "Python 3.5.2 64-bit ('venv': virtualenv)",
   "language": "python",
   "name": "python35264bitvenvvirtualenv74a90dc07a4247958f4fcbf51a09820e"
  },
  "language_info": {
   "codemirror_mode": {
    "name": "ipython",
    "version": 3
   },
   "file_extension": ".py",
   "mimetype": "text/x-python",
   "name": "python",
   "nbconvert_exporter": "python",
   "pygments_lexer": "ipython3",
   "version": "3.5.2"
  }
 },
 "nbformat": 4,
 "nbformat_minor": 4
}
